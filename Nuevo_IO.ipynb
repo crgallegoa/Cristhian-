{
  "nbformat": 4,
  "nbformat_minor": 0,
  "metadata": {
    "colab": {
      "provenance": [],
      "toc_visible": true,
      "authorship_tag": "ABX9TyPJ9hbZwHz8Ppl90oQBq/1d",
      "include_colab_link": true
    },
    "kernelspec": {
      "name": "python3",
      "display_name": "Python 3"
    },
    "language_info": {
      "name": "python"
    }
  },
  "cells": [
    {
      "cell_type": "markdown",
      "metadata": {
        "id": "view-in-github",
        "colab_type": "text"
      },
      "source": [
        "<a href=\"https://colab.research.google.com/github/crgallegoa/Cristhian-/blob/main/Nuevo_IO.ipynb\" target=\"_parent\"><img src=\"https://colab.research.google.com/assets/colab-badge.svg\" alt=\"Open In Colab\"/></a>"
      ]
    },
    {
      "cell_type": "code",
      "execution_count": null,
      "metadata": {
        "id": "fGw8l7GBU3RR"
      },
      "outputs": [],
      "source": []
    },
    {
      "cell_type": "markdown",
      "source": [
        "# Esto es un tìtulo\n",
        "\n",
        "\n",
        "```\n",
        "# Esto tiene formato de código\n",
        "```\n",
        "\n"
      ],
      "metadata": {
        "id": "1PoP94HcVOGF"
      }
    },
    {
      "cell_type": "markdown",
      "source": [
        "##Esto es un subtitulo\n"
      ],
      "metadata": {
        "id": "6rXaz2LdVX71"
      }
    },
    {
      "cell_type": "code",
      "source": [
        "print ('Hola, mundo')"
      ],
      "metadata": {
        "colab": {
          "base_uri": "https://localhost:8080/"
        },
        "id": "ZYmXCFMDVAbd",
        "outputId": "24f79c8b-31b5-437c-8226-1d2f98dd9f6b"
      },
      "execution_count": 1,
      "outputs": [
        {
          "output_type": "stream",
          "name": "stdout",
          "text": [
            "Hola, mundo\n"
          ]
        }
      ]
    },
    {
      "cell_type": "markdown",
      "source": [],
      "metadata": {
        "id": "bzmIVapPVBRc"
      }
    }
  ]
}